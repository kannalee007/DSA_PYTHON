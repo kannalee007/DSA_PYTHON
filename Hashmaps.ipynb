{
 "cells": [
  {
   "cell_type": "code",
   "execution_count": 1,
   "id": "1d90a5d2-ed4a-40ca-a7d3-e14b57e5cab8",
   "metadata": {},
   "outputs": [
    {
     "name": "stdout",
     "output_type": "stream",
     "text": [
      "Austin\n",
      "California is in the map!\n",
      "California: Sacramento\n",
      "Texas: Austin\n",
      "New York: Albany\n"
     ]
    }
   ],
   "source": [
    "# Creating a hashmap (dictionary)\n",
    "city_map = {}\n",
    "\n",
    "# Adding key-value pairs\n",
    "city_map[\"California\"] = \"Sacramento\"\n",
    "city_map[\"Texas\"] = \"Austin\"\n",
    "city_map[\"New York\"] = \"Albany\"\n",
    "\n",
    "# Accessing values\n",
    "print(city_map[\"Texas\"])  # Output: Austin\n",
    "\n",
    "# Checking if a key exists\n",
    "if \"California\" in city_map:\n",
    "    print(\"California is in the map!\")\n",
    "\n",
    "# Iterating over keys and values\n",
    "for state, capital in city_map.items():\n",
    "    print(f\"{state}: {capital}\")"
   ]
  },
  {
   "cell_type": "code",
   "execution_count": null,
   "id": "a3e4d74e-e5db-4844-8f93-daf17799c2fd",
   "metadata": {},
   "outputs": [],
   "source": []
  }
 ],
 "metadata": {
  "kernelspec": {
   "display_name": "Python 3 (ipykernel)",
   "language": "python",
   "name": "python3"
  },
  "language_info": {
   "codemirror_mode": {
    "name": "ipython",
    "version": 3
   },
   "file_extension": ".py",
   "mimetype": "text/x-python",
   "name": "python",
   "nbconvert_exporter": "python",
   "pygments_lexer": "ipython3",
   "version": "3.13.5"
  }
 },
 "nbformat": 4,
 "nbformat_minor": 5
}
