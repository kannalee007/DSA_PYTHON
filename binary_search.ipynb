{
 "cells": [
  {
   "cell_type": "code",
   "execution_count": 3,
   "id": "1d90a5d2-ed4a-40ca-a7d3-e14b57e5cab8",
   "metadata": {},
   "outputs": [],
   "source": [
    "A = [-7,-3,-1,0,1,2,5,9]\n",
    "if 8 in A:\n",
    "    print(True)\n",
    "#TRADITIONAL BINARY SEARCH"
   ]
  },
  {
   "cell_type": "code",
   "execution_count": 6,
   "id": "e6591a1b-df7f-4535-a724-e271ba9b2192",
   "metadata": {},
   "outputs": [
    {
     "data": {
      "text/plain": [
       "False"
      ]
     },
     "execution_count": 6,
     "metadata": {},
     "output_type": "execute_result"
    }
   ],
   "source": [
    "def binary_search(arr,target):\n",
    "    \n",
    "    N = len(arr)\n",
    "    L=0\n",
    "    R= N-1\n",
    "    while L <=R:\n",
    "        M = L + ((R-L) // 2)\n",
    "\n",
    "        if arr[M] == target:\n",
    "            return True\n",
    "        elif target < arr[M]:\n",
    "            R = M -1\n",
    "        else:\n",
    "            L = M +1\n",
    "        return False\n",
    "binary_search(A,-10)"
   ]
  },
  {
   "cell_type": "code",
   "execution_count": 7,
   "id": "363e9a09-c230-4dd4-becf-29cfd6e56a01",
   "metadata": {},
   "outputs": [],
   "source": [
    "#OVER UNDER (CONDITION BASED)"
   ]
  },
  {
   "cell_type": "code",
   "execution_count": 9,
   "id": "f8f72214-361a-42e2-abef-2159edb18acb",
   "metadata": {},
   "outputs": [
    {
     "data": {
      "text/plain": [
       "3"
      ]
     },
     "execution_count": 9,
     "metadata": {},
     "output_type": "execute_result"
    }
   ],
   "source": [
    "B = [False,False,False,True,True,True]\n",
    "def Conditional_search(arr):\n",
    "    N = len(arr)\n",
    "    L=0\n",
    "    R=N-1\n",
    "    while L <R:\n",
    "        M = L + ((R-L) // 2)\n",
    "\n",
    "        if B[M]:\n",
    "            R= M\n",
    "        else:\n",
    "            L = M+1\n",
    "            return L\n",
    "Conditional_search(B)"
   ]
  },
  {
   "cell_type": "code",
   "execution_count": null,
   "id": "114d6c92-5fc3-4545-aed3-8a268538dc49",
   "metadata": {},
   "outputs": [],
   "source": []
  }
 ],
 "metadata": {
  "kernelspec": {
   "display_name": "Python 3 (ipykernel)",
   "language": "python",
   "name": "python3"
  },
  "language_info": {
   "codemirror_mode": {
    "name": "ipython",
    "version": 3
   },
   "file_extension": ".py",
   "mimetype": "text/x-python",
   "name": "python",
   "nbconvert_exporter": "python",
   "pygments_lexer": "ipython3",
   "version": "3.13.5"
  }
 },
 "nbformat": 4,
 "nbformat_minor": 5
}
