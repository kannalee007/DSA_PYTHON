{
 "cells": [
  {
   "cell_type": "code",
   "execution_count": 1,
   "id": "a60b0ec8-1fd6-4291-beb3-434ae16739b0",
   "metadata": {},
   "outputs": [],
   "source": [
    "#stacks time complexity o(1)\n",
    "#valid parentheses"
   ]
  },
  {
   "cell_type": "code",
   "execution_count": 4,
   "id": "a41f8d28-e66c-4c75-83d8-cb8d93e9d3da",
   "metadata": {},
   "outputs": [],
   "source": [
    "class Parenth:\n",
    "    def isValid(self, s: str):\n",
    "        close_to_open = { \")\":\"(\",\"}\":\"{\",\"]\":\"[\"}\n",
    "        stack =[]\n",
    "        for bracket in s:\n",
    "            if bracket in close_to_open:\n",
    "                if not stack:\n",
    "                    return False\n",
    "                top = stack.pop()\n",
    "                if close_to_open[bracket] != top:\n",
    "                    return False\n",
    "            else:\n",
    "                stack.append(bracket)\n",
    "\n",
    "        if stack:\n",
    "            return False\n",
    "        else:\n",
    "            return True\n",
    "            "
   ]
  },
  {
   "cell_type": "code",
   "execution_count": 33,
   "id": "659c4872-c7c7-4977-8c8e-f1a6f7aa06ac",
   "metadata": {},
   "outputs": [],
   "source": [
    "s = []\n",
    "s.append('classmate')\n",
    "s.append('world')\n",
    "s.append('gemini')\n",
    "s.append('apple silicon')\n"
   ]
  },
  {
   "cell_type": "code",
   "execution_count": 34,
   "id": "43d82daa-600e-4a47-bc7a-fbd8307a6f41",
   "metadata": {},
   "outputs": [
    {
     "data": {
      "text/plain": [
       "'apple silicon'"
      ]
     },
     "execution_count": 34,
     "metadata": {},
     "output_type": "execute_result"
    }
   ],
   "source": [
    "s.pop()"
   ]
  },
  {
   "cell_type": "code",
   "execution_count": 35,
   "id": "d6595816-e21e-4490-b80d-2589436755fe",
   "metadata": {},
   "outputs": [
    {
     "data": {
      "text/plain": [
       "'gemini'"
      ]
     },
     "execution_count": 35,
     "metadata": {},
     "output_type": "execute_result"
    }
   ],
   "source": [
    "s.pop()"
   ]
  },
  {
   "cell_type": "code",
   "execution_count": 36,
   "id": "5dc4bf25-ca17-4afb-af2e-4705a97264ec",
   "metadata": {},
   "outputs": [
    {
     "data": {
      "text/plain": [
       "'world'"
      ]
     },
     "execution_count": 36,
     "metadata": {},
     "output_type": "execute_result"
    }
   ],
   "source": [
    "s.pop()"
   ]
  },
  {
   "cell_type": "code",
   "execution_count": 29,
   "id": "b4e3d5a7-eb4a-4a78-8855-c4e913eb462b",
   "metadata": {},
   "outputs": [
    {
     "data": {
      "text/plain": [
       "'classmate'"
      ]
     },
     "execution_count": 29,
     "metadata": {},
     "output_type": "execute_result"
    }
   ],
   "source": [
    "s.pop()"
   ]
  },
  {
   "cell_type": "code",
   "execution_count": 32,
   "id": "e8dc4605-086b-4b5e-8622-107d4c812d90",
   "metadata": {},
   "outputs": [
    {
     "data": {
      "text/plain": [
       "'apple silicon'"
      ]
     },
     "execution_count": 32,
     "metadata": {},
     "output_type": "execute_result"
    }
   ],
   "source": [
    "s[-1]"
   ]
  },
  {
   "cell_type": "code",
   "execution_count": 22,
   "id": "d3746cff-aaa6-40a2-a83c-f0d812ed162e",
   "metadata": {},
   "outputs": [
    {
     "ename": "IndexError",
     "evalue": "pop from empty list",
     "output_type": "error",
     "traceback": [
      "\u001b[31m---------------------------------------------------------------------------\u001b[39m",
      "\u001b[31mIndexError\u001b[39m                                Traceback (most recent call last)",
      "\u001b[36mCell\u001b[39m\u001b[36m \u001b[39m\u001b[32mIn[22]\u001b[39m\u001b[32m, line 1\u001b[39m\n\u001b[32m----> \u001b[39m\u001b[32m1\u001b[39m \u001b[43ms\u001b[49m\u001b[43m.\u001b[49m\u001b[43mpop\u001b[49m\u001b[43m(\u001b[49m\u001b[43m)\u001b[49m\n",
      "\u001b[31mIndexError\u001b[39m: pop from empty list"
     ]
    }
   ],
   "source": [
    "s.pop()"
   ]
  },
  {
   "cell_type": "code",
   "execution_count": 37,
   "id": "6728d560-671b-4d4e-aff0-0f3f69ba66d5",
   "metadata": {},
   "outputs": [
    {
     "ename": "AttributeError",
     "evalue": "'list' object has no attribute 'is_empty'",
     "output_type": "error",
     "traceback": [
      "\u001b[31m---------------------------------------------------------------------------\u001b[39m",
      "\u001b[31mAttributeError\u001b[39m                            Traceback (most recent call last)",
      "\u001b[36mCell\u001b[39m\u001b[36m \u001b[39m\u001b[32mIn[37]\u001b[39m\u001b[32m, line 1\u001b[39m\n\u001b[32m----> \u001b[39m\u001b[32m1\u001b[39m \u001b[43ms\u001b[49m\u001b[43m.\u001b[49m\u001b[43mis_empty\u001b[49m()\n",
      "\u001b[31mAttributeError\u001b[39m: 'list' object has no attribute 'is_empty'"
     ]
    }
   ],
   "source": [
    "s.is_empty()"
   ]
  },
  {
   "cell_type": "code",
   "execution_count": null,
   "id": "df1b7d3a-443a-4ea2-977b-c7fc5c53aed2",
   "metadata": {},
   "outputs": [],
   "source": []
  }
 ],
 "metadata": {
  "kernelspec": {
   "display_name": "Python 3 (ipykernel)",
   "language": "python",
   "name": "python3"
  },
  "language_info": {
   "codemirror_mode": {
    "name": "ipython",
    "version": 3
   },
   "file_extension": ".py",
   "mimetype": "text/x-python",
   "name": "python",
   "nbconvert_exporter": "python",
   "pygments_lexer": "ipython3",
   "version": "3.13.5"
  }
 },
 "nbformat": 4,
 "nbformat_minor": 5
}
