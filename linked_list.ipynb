{
 "cells": [
  {
   "cell_type": "code",
   "execution_count": 11,
   "id": "2cd7e309-ec57-481f-a1cb-c3e5c007a4df",
   "metadata": {},
   "outputs": [
    {
     "name": "stdout",
     "output_type": "stream",
     "text": [
      "A\n",
      "B\n",
      "E\n",
      "C\n",
      "D\n"
     ]
    }
   ],
   "source": [
    "#SINGLY LINK LIST\n",
    "class Node:\n",
    "    def __init__(self, data):\n",
    "        self.data = data\n",
    "        self.next = None\n",
    "\n",
    "class Linkedlist:\n",
    "    def __init__(self):\n",
    "        self.head = None\n",
    "\n",
    "    def print_list(self):\n",
    "        cur_node = self.head\n",
    "        while cur_node:\n",
    "            print(cur_node.data)\n",
    "            cur_node = cur_node.next\n",
    "            \n",
    "    def append(self,data):\n",
    "        new_node = Node(data)\n",
    "        if self.head is None:\n",
    "            self.head = new_node\n",
    "            return\n",
    "\n",
    "        last_node = self.head\n",
    "        while last_node.next:\n",
    "            last_node = last_node.next\n",
    "        last_node.next = new_node\n",
    "        \n",
    "    def prepend(self,data):\n",
    "        new_node = Node(data)\n",
    "        new_node.next = self.head\n",
    "        self.head = new_node\n",
    "\n",
    "    def insert_after_node(self, prev_node, data):\n",
    "        if not prev_node:\n",
    "            print(\"previous node not in the list\")\n",
    "            return\n",
    "        new_node = Node(data)\n",
    "        new_node.next = prev_node.next\n",
    "        prev_node.next = new_node\n",
    "\n",
    "llist = Linkedlist()\n",
    "llist.append(\"A\")\n",
    "llist.append(\"B\")\n",
    "llist.append(\"C\")\n",
    "llist.append(\"D\")\n",
    "llist.insert_after_node(llist.head.next, \"E\")\n",
    "llist.print_list()"
   ]
  },
  {
   "cell_type": "code",
   "execution_count": 22,
   "id": "d226350b-0168-4d2a-aa21-7b82a745b49b",
   "metadata": {},
   "outputs": [
    {
     "name": "stdout",
     "output_type": "stream",
     "text": [
      "DLL from Head to Tail:\n",
      "5 <-> 10 <-> 20 <-> 30\n"
     ]
    }
   ],
   "source": [
    "class Node:\n",
    "    def __init__(self, data):\n",
    "        self.data = data\n",
    "        self.next = None\n",
    "        self.prev = None \n",
    "\n",
    "class DoublyLinkedList:\n",
    "    def __init__(self):\n",
    "        self.head = None\n",
    "\n",
    "    def print_list(self):\n",
    "        current = self.head\n",
    "        elements = []\n",
    "        while current:\n",
    "            elements.append(str(current.data))\n",
    "            current = current.next\n",
    "        print(\" <-> \".join(elements))\n",
    "\n",
    "    # --- Core Operations ---\n",
    "    \n",
    "    def append(self, data):\n",
    "        new_node = Node(data)\n",
    "        if self.head is None:\n",
    "            self.head = new_node\n",
    "            return\n",
    "        last_node = self.head\n",
    "        while last_node.next:\n",
    "            last_node = last_node.next\n",
    "        last_node.next = new_node\n",
    "        new_node.prev = last_node\n",
    "\n",
    "    def prepend(self, data):\n",
    "        new_node = Node(data)\n",
    "        if self.head:\n",
    "            self.head.prev = new_node\n",
    "        new_node.next = self.head\n",
    "        self.head = new_node\n",
    "        \n",
    "# --- Example Usage ---\n",
    "\n",
    "dll = DoublyLinkedList()\n",
    "dll.append(10) # List: 10\n",
    "dll.append(20) # List: 10 <-> 20\n",
    "dll.prepend(5) # List: 5 <-> 10 <-> 20\n",
    "dll.append(30) # List: 5 <-> 10 <-> 20 <-> 30\n",
    "\n",
    "print(\"DLL from Head to Tail:\")\n",
    "dll.print_list()"
   ]
  },
  {
   "cell_type": "code",
   "execution_count": null,
   "id": "0cdd9aa1-7f24-4786-b783-64196a0d2dc4",
   "metadata": {},
   "outputs": [],
   "source": []
  }
 ],
 "metadata": {
  "kernelspec": {
   "display_name": "Python 3 (ipykernel)",
   "language": "python",
   "name": "python3"
  },
  "language_info": {
   "codemirror_mode": {
    "name": "ipython",
    "version": 3
   },
   "file_extension": ".py",
   "mimetype": "text/x-python",
   "name": "python",
   "nbconvert_exporter": "python",
   "pygments_lexer": "ipython3",
   "version": "3.13.5"
  }
 },
 "nbformat": 4,
 "nbformat_minor": 5
}
