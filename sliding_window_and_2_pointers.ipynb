{
 "cells": [
  {
   "cell_type": "code",
   "execution_count": 3,
   "id": "a9063319-8b5a-4e5a-b89e-2b7809e08c04",
   "metadata": {},
   "outputs": [
    {
     "name": "stdout",
     "output_type": "stream",
     "text": [
      "String: 'araaci', K: 2\n",
      "Longest Substring Length: 4\n"
     ]
    }
   ],
   "source": [
    "#sliding window for variable size\n",
    "\n",
    "def longest_substring_with_k_distinct(s: str, k: int):\n",
    "\n",
    "    L = 0\n",
    "    max_length = 0\n",
    "    char_frequency = {} #we can add set() if our problem is simple\n",
    "    for R in range(len(s)):\n",
    "        right_char = s[R]\n",
    "        char_frequency[right_char] = char_frequency.get(right_char, 0) + 1\n",
    "        while len(char_frequency) > k:\n",
    "            left_char = s[L]\n",
    "            char_frequency[left_char] -= 1\n",
    "            if char_frequency[left_char] == 0:\n",
    "                del char_frequency[left_char]\n",
    "            L += 1\n",
    "        current_length = R - L + 1\n",
    "        max_length = max(max_length, current_length)\n",
    "        \n",
    "    return max_length\n",
    "s = \"araaci\"\n",
    "k = 2\n",
    "result = longest_substring_with_k_distinct(s, k)\n",
    "\n",
    "print(f\"String: '{s}', K: {k}\")\n",
    "print(f\"Longest Substring Length: {result}\") "
   ]
  },
  {
   "cell_type": "code",
   "execution_count": 4,
   "id": "048884d3-4717-4cea-b20d-a1b519bd3eaa",
   "metadata": {},
   "outputs": [
    {
     "name": "stdout",
     "output_type": "stream",
     "text": [
      "Array: [1, 5, 2, 7, 8, 3, 1]\n",
      "Fixed Window Size (K): 3\n",
      "Maximum Sum Found: 18\n"
     ]
    }
   ],
   "source": [
    "#sliding window for fixed size\n",
    "def max_sum_fixed_window(arr: list[int], k: int):\n",
    "\n",
    "    if k > len(arr):\n",
    "        return 0\n",
    "    current_sum = sum(arr[:k]) \n",
    "    max_sum = current_sum\n",
    "    for R in range(k, len(arr)):\n",
    "        current_sum += arr[R]\n",
    "        element_leaving = arr[R - k]\n",
    "        current_sum -= element_leaving\n",
    "        max_sum = max(max_sum, current_sum)\n",
    "        \n",
    "    return max_sum\n",
    "\n",
    "# Example Usage\n",
    "array = [1, 5, 2, 7, 8, 3, 1]\n",
    "K = 3 # Fixed window size\n",
    "\n",
    "result = max_sum_fixed_window(array, K)\n",
    "\n",
    "print(f\"Array: {array}\")\n",
    "print(f\"Fixed Window Size (K): {K}\")\n",
    "print(f\"Maximum Sum Found: {result}\")\n",
    "# Expected: [7, 8, 3] which sums to 18\n"
   ]
  },
  {
   "cell_type": "code",
   "execution_count": null,
   "id": "31d0f913-a7bd-4984-a82d-4e5900bd288a",
   "metadata": {},
   "outputs": [],
   "source": [
    "#TWO POINTERS"
   ]
  },
  {
   "cell_type": "code",
   "execution_count": 1,
   "id": "42e67116-007e-462c-8369-3a0fa847225c",
   "metadata": {},
   "outputs": [
    {
     "name": "stdout",
     "output_type": "stream",
     "text": [
      "Array: [2, 7, 11, 15, 18, 20], Target: 26\n",
      "Pair found: (11, 15)\n"
     ]
    }
   ],
   "source": [
    "#convergence\n",
    "def find_two_sum(arr: list[int], target: int) -> tuple[int, int] | None:\n",
    "\n",
    "    L = 0            \n",
    "    R = len(arr) - 1      \n",
    "    while L < R:\n",
    "        current_sum = arr[L] + arr[R]\n",
    "        if current_sum == target:\n",
    "            return arr[L], arr[R]\n",
    "        elif current_sum < target:\n",
    "            L += 1   \n",
    "        else:\n",
    "            R -= 1\n",
    "    return None\n",
    "\n",
    "# Example Run\n",
    "array = [2, 7, 11, 15, 18, 20]\n",
    "target = 26\n",
    "result = find_two_sum(array, target)\n",
    "\n",
    "print(f\"Array: {array}, Target: {target}\")\n",
    "print(f\"Pair found: {result}\")"
   ]
  },
  {
   "cell_type": "code",
   "execution_count": null,
   "id": "f532d7dd-f168-446a-80df-6ce3df7510fc",
   "metadata": {},
   "outputs": [],
   "source": []
  }
 ],
 "metadata": {
  "kernelspec": {
   "display_name": "Python 3 (ipykernel)",
   "language": "python",
   "name": "python3"
  },
  "language_info": {
   "codemirror_mode": {
    "name": "ipython",
    "version": 3
   },
   "file_extension": ".py",
   "mimetype": "text/x-python",
   "name": "python",
   "nbconvert_exporter": "python",
   "pygments_lexer": "ipython3",
   "version": "3.13.5"
  }
 },
 "nbformat": 4,
 "nbformat_minor": 5
}
