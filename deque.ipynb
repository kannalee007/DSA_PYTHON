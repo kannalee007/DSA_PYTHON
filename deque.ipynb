{
 "cells": [
  {
   "cell_type": "code",
   "execution_count": 1,
   "id": "f73f7acb-b44f-4a5a-b8db-48de83e638ef",
   "metadata": {},
   "outputs": [],
   "source": [
    "#deque time complexity 0(1)\n",
    "from collections import deque"
   ]
  },
  {
   "cell_type": "code",
   "execution_count": 3,
   "id": "d3529579-50cd-4a3b-a574-5785c3083669",
   "metadata": {},
   "outputs": [
    {
     "data": {
      "text/plain": [
       "deque([1, 2, 3, 4])"
      ]
     },
     "execution_count": 3,
     "metadata": {},
     "output_type": "execute_result"
    }
   ],
   "source": [
    "d = deque([1,2,3])\n",
    "d.append(4)\n",
    "d"
   ]
  },
  {
   "cell_type": "code",
   "execution_count": 4,
   "id": "767bd954-9eb8-4318-8250-e26b155b18bb",
   "metadata": {},
   "outputs": [
    {
     "data": {
      "text/plain": [
       "deque([0, 1, 2, 3, 4])"
      ]
     },
     "execution_count": 4,
     "metadata": {},
     "output_type": "execute_result"
    }
   ],
   "source": [
    "d.appendleft(0)\n",
    "d"
   ]
  },
  {
   "cell_type": "code",
   "execution_count": 5,
   "id": "7fcd7a0c-9018-43ee-833d-2d3775081cfb",
   "metadata": {},
   "outputs": [
    {
     "data": {
      "text/plain": [
       "deque([0, 1, 2, 3])"
      ]
     },
     "execution_count": 5,
     "metadata": {},
     "output_type": "execute_result"
    }
   ],
   "source": [
    "d.pop()\n",
    "d"
   ]
  },
  {
   "cell_type": "code",
   "execution_count": 7,
   "id": "d72f4883-4f31-46f0-9e31-a19bfa64274d",
   "metadata": {},
   "outputs": [
    {
     "data": {
      "text/plain": [
       "deque([2, 3])"
      ]
     },
     "execution_count": 7,
     "metadata": {},
     "output_type": "execute_result"
    }
   ],
   "source": [
    "d.popleft()\n",
    "d"
   ]
  },
  {
   "cell_type": "code",
   "execution_count": 16,
   "id": "2f0c559f-a039-4ce3-8676-fb6d906ac91f",
   "metadata": {},
   "outputs": [
    {
     "data": {
      "text/plain": [
       "deque([3, 4, 1, 2])"
      ]
     },
     "execution_count": 16,
     "metadata": {},
     "output_type": "execute_result"
    }
   ],
   "source": [
    "d1 = deque([1,2,3,4])\n",
    "d1.rotate(2)#each element moves one step to the right, and the last element wraps around to the front.\n",
    "d1"
   ]
  },
  {
   "cell_type": "code",
   "execution_count": 15,
   "id": "1664e8e3-50a3-4ace-9d93-7a1dc03d9ed0",
   "metadata": {},
   "outputs": [
    {
     "data": {
      "text/plain": [
       "deque([1, 2, 3, 4])"
      ]
     },
     "execution_count": 15,
     "metadata": {},
     "output_type": "execute_result"
    }
   ],
   "source": [
    "d1.rotate(-1)#ach element moves one step to the left, and the first element wraps around to the end.\n",
    "d1"
   ]
  },
  {
   "cell_type": "code",
   "execution_count": 17,
   "id": "0a89af45-9257-4d51-9f4b-1170d94c0515",
   "metadata": {},
   "outputs": [],
   "source": [
    "#the steps keeps o increasing if we say like 2,3"
   ]
  },
  {
   "cell_type": "code",
   "execution_count": null,
   "id": "dc9f761a-3500-47c0-b902-edfddfdbec5a",
   "metadata": {},
   "outputs": [],
   "source": [
    "d = deque(maxlen=3)  # Fixed size deque\n",
    "d.append(1)  # [1]\n",
    "d.append(2)  # [1, 2]\n",
    "d.append(3)  # [1, 2, 3]\n",
    "d.append(4)  # [2, 3, 4] (1 is removed automatically)"
   ]
  }
 ],
 "metadata": {
  "kernelspec": {
   "display_name": "Python 3 (ipykernel)",
   "language": "python",
   "name": "python3"
  },
  "language_info": {
   "codemirror_mode": {
    "name": "ipython",
    "version": 3
   },
   "file_extension": ".py",
   "mimetype": "text/x-python",
   "name": "python",
   "nbconvert_exporter": "python",
   "pygments_lexer": "ipython3",
   "version": "3.13.5"
  }
 },
 "nbformat": 4,
 "nbformat_minor": 5
}
